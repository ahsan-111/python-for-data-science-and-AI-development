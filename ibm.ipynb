{
 "cells": [
  {
   "cell_type": "code",
   "execution_count": null,
   "id": "c126ba7a",
   "metadata": {},
   "outputs": [],
   "source": [
    "import sys\n",
    "print(sys.version)"
   ]
  },
  {
   "cell_type": "code",
   "execution_count": null,
   "id": "2bf48c5f",
   "metadata": {},
   "outputs": [],
   "source": [
    "bool(1)"
   ]
  },
  {
   "cell_type": "code",
   "execution_count": null,
   "id": "0764e9aa",
   "metadata": {},
   "outputs": [],
   "source": [
    "type(int(12.3))"
   ]
  },
  {
   "cell_type": "code",
   "execution_count": null,
   "id": "112a299e",
   "metadata": {},
   "outputs": [],
   "source": [
    "print(\"1\" +'2')"
   ]
  },
  {
   "cell_type": "code",
   "execution_count": null,
   "id": "cf5d990b",
   "metadata": {},
   "outputs": [],
   "source": [
    "print(str(\"1\"+\"1\"))"
   ]
  },
  {
   "cell_type": "code",
   "execution_count": null,
   "id": "4070b9ca",
   "metadata": {},
   "outputs": [],
   "source": [
    "a = \"123\"\n",
    "b = \"123\".replace(\"12\",\"ab\")\n",
    "b"
   ]
  },
  {
   "cell_type": "code",
   "execution_count": null,
   "id": "ac05863e",
   "metadata": {},
   "outputs": [],
   "source": [
    "print(str(1+1))"
   ]
  },
  {
   "cell_type": "code",
   "execution_count": null,
   "id": "a65520f5",
   "metadata": {},
   "outputs": [],
   "source": [
    "a = [1,2,5]\n",
    "a.append([6,8])\n",
    "a"
   ]
  },
  {
   "cell_type": "code",
   "execution_count": null,
   "id": "6e643433",
   "metadata": {},
   "outputs": [],
   "source": [
    "a = \"a,h,s,a,n\"\n",
    "b = a.split(\",\")\n",
    "b"
   ]
  },
  {
   "cell_type": "code",
   "execution_count": null,
   "id": "65261f73",
   "metadata": {},
   "outputs": [],
   "source": [
    "a = [1]\n",
    "help(a)"
   ]
  },
  {
   "cell_type": "code",
   "execution_count": null,
   "id": "5681bafa",
   "metadata": {},
   "outputs": [],
   "source": [
    "A=[1,2,3,4,5]\n",
    "A[1:4]"
   ]
  },
  {
   "cell_type": "code",
   "execution_count": null,
   "id": "1efc3de4",
   "metadata": {},
   "outputs": [],
   "source": [
    "x = {\n",
    "    \"ahsan\":\"javed\",\n",
    "    \"ali\" : \"nadeem\"\n",
    "}\n",
    "x[\"ahsan\"]= \"jawed\"\n",
    "x"
   ]
  },
  {
   "cell_type": "code",
   "execution_count": null,
   "id": "d3254b7d",
   "metadata": {},
   "outputs": [],
   "source": [
    "a = [1,2,4,3,7,1,3,4]\n",
    "c = [1,8,6,4]\n",
    "b = set(a)\n",
    "g = set(c)\n",
    "final = b.union(g)\n",
    "print(final)\n",
    "g.issubset(b)"
   ]
  },
  {
   "cell_type": "code",
   "execution_count": null,
   "id": "c950c700",
   "metadata": {},
   "outputs": [],
   "source": [
    "a=\"a\"\n",
    "a = \"A\"\n"
   ]
  },
  {
   "cell_type": "code",
   "execution_count": null,
   "id": "5a5e6768",
   "metadata": {},
   "outputs": [],
   "source": [
    "a = [\"ahsan\"]\n",
    "\n",
    "for i,k in enumerate(a):\n",
    "    \n",
    "    print(i,k)"
   ]
  },
  {
   "cell_type": "code",
   "execution_count": null,
   "id": "2f376c92",
   "metadata": {},
   "outputs": [],
   "source": [
    "a = [\"orange\",\"red\",\"apple\"]\n",
    "b = []\n",
    "i = 0\n",
    "while(a[i] == \"apple\"):\n",
    "    b.append(a[i])\n",
    "    i = i+1\n"
   ]
  },
  {
   "cell_type": "code",
   "execution_count": null,
   "id": "c70bb0d8",
   "metadata": {},
   "outputs": [],
   "source": [
    "a = [1,2,3,42,3,4]\n",
    "a.sort()\n",
    "a"
   ]
  },
  {
   "cell_type": "code",
   "execution_count": null,
   "id": "83d5409b",
   "metadata": {},
   "outputs": [],
   "source": [
    "def divide(x, y):\n",
    "    try:\n",
    "        # Floor Division : Gives only Fractional Part as Answer\n",
    "        result = x // y\n",
    "        print(\"Yeah ! Your answer is :\", result)\n",
    "    except ZeroDivisionError:\n",
    "        print(\"Sorry ! You are dividing by zero \")\n",
    " \n",
    "# Look at parameters and note the working of Program\n",
    "divide(500,0)"
   ]
  },
  {
   "cell_type": "code",
   "execution_count": null,
   "id": "5e425bb3",
   "metadata": {},
   "outputs": [],
   "source": [
    "def mult(x,y):\n",
    "    try:\n",
    "        a = x//y\n",
    "        print(a)\n",
    "    except ZeroDivisionError:\n",
    "        print(\"please dont devide with zero\")\n",
    "mult(8,0)"
   ]
  },
  {
   "cell_type": "code",
   "execution_count": null,
   "id": "af6a48ef",
   "metadata": {},
   "outputs": [],
   "source": [
    "class circle():\n",
    "    def __init__(self,color,radius):\n",
    "        self.color = color\n",
    "        self.radius = radius\n",
    "a = circle(\"green\",88)\n",
    "a.color = \"blour\"\n",
    "a.color\n",
    "\n",
    "\n",
    "\n",
    "\n",
    "    "
   ]
  },
  {
   "cell_type": "code",
   "execution_count": null,
   "id": "1e64949e",
   "metadata": {},
   "outputs": [],
   "source": [
    "import matplotlib.pyplot as plt\n",
    "%matplotlib inline "
   ]
  },
  {
   "cell_type": "code",
   "execution_count": null,
   "id": "3b78a0d5",
   "metadata": {},
   "outputs": [],
   "source": [
    "\n",
    "class Circle(object):\n",
    "    \n",
    "    # Constructor\n",
    "    def __init__(self, radius=3, color='blue'):\n",
    "        self.radius = radius\n",
    "        self.color = color \n",
    "    \n",
    "    # Method\n",
    "    def add_radius(self, r):\n",
    "        self.radius = self.radius + r\n",
    "        return(self.radius)\n",
    "    \n",
    "    # Method\n",
    "    def drawCircle(self):\n",
    "        plt.gca().add_patch(plt.Circle((0, 0), radius=self.radius, fc=self.color))\n",
    "        plt.axis('scaled')\n",
    "        plt.show()  "
   ]
  },
  {
   "cell_type": "code",
   "execution_count": null,
   "id": "453065f6",
   "metadata": {},
   "outputs": [],
   "source": [
    "RedCircle = Circle(10, 'red')"
   ]
  },
  {
   "cell_type": "code",
   "execution_count": null,
   "id": "b37ce893",
   "metadata": {},
   "outputs": [],
   "source": [
    "RedCircle.radius = 1\n",
    "RedCircle.radius"
   ]
  },
  {
   "cell_type": "code",
   "execution_count": null,
   "id": "ed5f8051",
   "metadata": {},
   "outputs": [],
   "source": [
    "RedCircle.drawCircle()"
   ]
  },
  {
   "cell_type": "markdown",
   "id": "d737ba78",
   "metadata": {},
   "source": [
    "**with open files read and write**"
   ]
  },
  {
   "cell_type": "code",
   "execution_count": null,
   "id": "4548e5f1",
   "metadata": {},
   "outputs": [],
   "source": [
    "with open(\"ibm.txt\") as f:\n",
    "    read = f.readlines()\n",
    "    print(read(16))\n"
   ]
  },
  {
   "cell_type": "code",
   "execution_count": null,
   "id": "f03b5e13",
   "metadata": {},
   "outputs": [],
   "source": [
    "with open(\"ibm.txt\") as f:\n",
    "    print(f.read(2))\n",
    "   \n"
   ]
  },
  {
   "cell_type": "code",
   "execution_count": null,
   "id": "594fc10c",
   "metadata": {},
   "outputs": [],
   "source": [
    "\n",
    "with open(\"ibmwrite.txt\",\"w\") as f:\n",
    "    f.write(\"this a boy\\n\")\n",
    "    f.write(\"this is a cute\\n\")\n",
    "    \n",
    "\n",
    "    \n"
   ]
  },
  {
   "cell_type": "code",
   "execution_count": null,
   "id": "7ef2262b",
   "metadata": {},
   "outputs": [],
   "source": []
  },
  {
   "cell_type": "markdown",
   "id": "3f5e9311",
   "metadata": {},
   "source": [
    "**pandas**"
   ]
  },
  {
   "cell_type": "code",
   "execution_count": null,
   "id": "33eea1b7",
   "metadata": {},
   "outputs": [],
   "source": [
    "import pandas as pd\n",
    "x = {'Name': ['Rose','John', 'Jane', 'Mary'], 'ID': [1, 2, 3, 4], 'Department': ['Architect Group', 'Software Group', 'Design Team', 'Infrastructure'], \n",
    "      'Salary':[100000, 80000, 50000, 60000]}\n",
    "df = pd.DataFrame(x)\n",
    "df\n"
   ]
  },
  {
   "cell_type": "code",
   "execution_count": null,
   "id": "be13bd9c",
   "metadata": {},
   "outputs": [],
   "source": [
    "x = df[[\"ID\"]]\n",
    "x\n"
   ]
  },
  {
   "cell_type": "code",
   "execution_count": null,
   "id": "47eed04f",
   "metadata": {},
   "outputs": [],
   "source": [
    "df.iloc[1,2]"
   ]
  },
  {
   "cell_type": "code",
   "execution_count": null,
   "id": "b8aba573",
   "metadata": {},
   "outputs": [],
   "source": [
    "c = df[\"Department\"].unique()\n"
   ]
  },
  {
   "cell_type": "code",
   "execution_count": null,
   "id": "a3c6db4d",
   "metadata": {},
   "outputs": [],
   "source": [
    "s = df[\"ID\"]<5\n",
    "s"
   ]
  },
  {
   "cell_type": "code",
   "execution_count": null,
   "id": "e3140708",
   "metadata": {},
   "outputs": [],
   "source": [
    "s = df1 = df[df[\"ID\"]<5]\n",
    "s\n",
    "\n",
    "             "
   ]
  },
  {
   "cell_type": "code",
   "execution_count": null,
   "id": "b4e363c7",
   "metadata": {},
   "outputs": [],
   "source": [
    "df[[\"Salary\",\"Department\"]]"
   ]
  },
  {
   "cell_type": "markdown",
   "id": "4262ba91",
   "metadata": {},
   "source": [
    "**to print the data frame rows and column on your choice**"
   ]
  },
  {
   "cell_type": "code",
   "execution_count": null,
   "id": "c37395ec",
   "metadata": {},
   "outputs": [],
   "source": [
    "df.head(2)"
   ]
  },
  {
   "cell_type": "code",
   "execution_count": null,
   "id": "03a37745",
   "metadata": {},
   "outputs": [],
   "source": [
    "df.iloc[1,1]"
   ]
  },
  {
   "cell_type": "markdown",
   "id": "e6482420",
   "metadata": {},
   "source": [
    "**to target specific entry in data frame**"
   ]
  },
  {
   "cell_type": "code",
   "execution_count": null,
   "id": "ddfcc399",
   "metadata": {},
   "outputs": [],
   "source": [
    "df.loc[1,\"Salary\"]"
   ]
  },
  {
   "cell_type": "code",
   "execution_count": null,
   "id": "7469c258",
   "metadata": {},
   "outputs": [],
   "source": [
    "df.loc[\"Jane\",\"Salary\"]"
   ]
  },
  {
   "cell_type": "code",
   "execution_count": null,
   "id": "968459cb",
   "metadata": {},
   "outputs": [],
   "source": [
    "df.iloc[1,1]"
   ]
  },
  {
   "cell_type": "code",
   "execution_count": null,
   "id": "a3138e39",
   "metadata": {},
   "outputs": [],
   "source": [
    "df.iloc[0:2,'ID':'Department']"
   ]
  },
  {
   "cell_type": "markdown",
   "id": "61010614",
   "metadata": {},
   "source": [
    "**csv as pandas**"
   ]
  },
  {
   "cell_type": "code",
   "execution_count": null,
   "id": "04287550",
   "metadata": {},
   "outputs": [],
   "source": [
    "import pandas as pd\n"
   ]
  },
  {
   "cell_type": "code",
   "execution_count": null,
   "id": "f545a3c9",
   "metadata": {},
   "outputs": [],
   "source": [
    "csv_path = 'https://cf-courses-data.s3.us.cloud-object-storage.appdomain.cloud/IBMDeveloperSkillsNetwork-PY0101EN-SkillsNetwork/labs/Module%204/data/TopSellingAlbums.csv'\n",
    "df = pd.read_csv(csv_path)\n",
    "df"
   ]
  },
  {
   "cell_type": "code",
   "execution_count": null,
   "id": "d2697a51",
   "metadata": {},
   "outputs": [],
   "source": [
    "df[[\"Artist\"]]"
   ]
  },
  {
   "cell_type": "code",
   "execution_count": null,
   "id": "520f6d26",
   "metadata": {},
   "outputs": [],
   "source": [
    "df.loc[0:2,\"Artist\":\"Released\"]"
   ]
  },
  {
   "cell_type": "code",
   "execution_count": null,
   "id": "f0947533",
   "metadata": {},
   "outputs": [],
   "source": [
    "df.iloc[1:3,1:5]"
   ]
  },
  {
   "cell_type": "markdown",
   "id": "41723de7",
   "metadata": {},
   "source": [
    "**numpy**"
   ]
  },
  {
   "cell_type": "code",
   "execution_count": null,
   "id": "54fcf881",
   "metadata": {},
   "outputs": [],
   "source": [
    "import numpy as np\n"
   ]
  },
  {
   "cell_type": "markdown",
   "id": "e9c58aec",
   "metadata": {},
   "source": [
    "**array**"
   ]
  },
  {
   "cell_type": "code",
   "execution_count": null,
   "id": "2f379d97",
   "metadata": {},
   "outputs": [],
   "source": [
    "a = np.array([0.1,1,2,3,4])\n",
    "type(a)\n"
   ]
  },
  {
   "cell_type": "code",
   "execution_count": null,
   "id": "16cc8568",
   "metadata": {},
   "outputs": [],
   "source": [
    "a.dtype"
   ]
  },
  {
   "cell_type": "code",
   "execution_count": null,
   "id": "74f6ee02",
   "metadata": {},
   "outputs": [],
   "source": [
    "a.size"
   ]
  },
  {
   "cell_type": "code",
   "execution_count": null,
   "id": "0fc5edf0",
   "metadata": {},
   "outputs": [],
   "source": [
    "a.ndim"
   ]
  },
  {
   "cell_type": "code",
   "execution_count": null,
   "id": "558178da",
   "metadata": {},
   "outputs": [],
   "source": [
    "a.shape"
   ]
  },
  {
   "cell_type": "code",
   "execution_count": null,
   "id": "e2b65741",
   "metadata": {},
   "outputs": [],
   "source": [
    "a[0]"
   ]
  },
  {
   "cell_type": "code",
   "execution_count": null,
   "id": "44855bf4",
   "metadata": {},
   "outputs": [],
   "source": [
    "h = a[1:4]\n",
    "h"
   ]
  },
  {
   "cell_type": "code",
   "execution_count": null,
   "id": "c297c5ae",
   "metadata": {},
   "outputs": [],
   "source": [
    "u = np.array([1,0])\n",
    "v = np.array([1,1])\n",
    "z = (u+v)\n",
    "z"
   ]
  },
  {
   "cell_type": "code",
   "execution_count": null,
   "id": "45d58964",
   "metadata": {},
   "outputs": [],
   "source": [
    "u = np.array([1,3])\n",
    "v = np.array([4,4])\n",
    "z = u*v\n",
    "z"
   ]
  },
  {
   "cell_type": "code",
   "execution_count": null,
   "id": "d85ff140",
   "metadata": {},
   "outputs": [],
   "source": [
    "u = np.array([0,1])\n",
    "v =np.array ([1,0])\n",
    "dot = np.dot(u,v)\n",
    "dot"
   ]
  },
  {
   "cell_type": "code",
   "execution_count": null,
   "id": "09e5e60d",
   "metadata": {},
   "outputs": [],
   "source": [
    "u = np.array([1,2,3,4])\n",
    "add = u+1\n",
    "add"
   ]
  },
  {
   "cell_type": "code",
   "execution_count": null,
   "id": "297b983b",
   "metadata": {},
   "outputs": [],
   "source": [
    "a = np.array([1,2,3,4,5,6,7,8,34,56])\n"
   ]
  },
  {
   "cell_type": "code",
   "execution_count": null,
   "id": "e2c9653f",
   "metadata": {},
   "outputs": [],
   "source": [
    "a.mean()"
   ]
  },
  {
   "cell_type": "code",
   "execution_count": null,
   "id": "58544627",
   "metadata": {},
   "outputs": [],
   "source": [
    "a.vectorize()"
   ]
  },
  {
   "cell_type": "code",
   "execution_count": null,
   "id": "ee3520c3",
   "metadata": {},
   "outputs": [],
   "source": [
    "sin = np.array([0,np.pi/2,np.pi])\n",
    "result = np.sin(sin)\n",
    "result"
   ]
  },
  {
   "cell_type": "code",
   "execution_count": null,
   "id": "06b0d81c",
   "metadata": {},
   "outputs": [],
   "source": [
    "np.linspace(-2,2 ,num=5)"
   ]
  },
  {
   "cell_type": "code",
   "execution_count": null,
   "id": "ae5d4679",
   "metadata": {},
   "outputs": [],
   "source": [
    "u = np.array([1,2,3,4,5])\n",
    "v = np.array([1,2,3,4,5])\n",
    "import matplotlib.pyplot as plt\n",
    "%matplotlib inline\n",
    "plt.plot(u,v)"
   ]
  },
  {
   "cell_type": "code",
   "execution_count": null,
   "id": "a9ed467b",
   "metadata": {},
   "outputs": [],
   "source": [
    "x = np.array([0,np.pi/2,5,6])\n",
    "y = np.sin(x)\n",
    "import matplotlib.pyplot as plt\n",
    "plt.plot(x,y)"
   ]
  },
  {
   "cell_type": "markdown",
   "id": "7b00aaae",
   "metadata": {},
   "source": [
    "**2D array**"
   ]
  },
  {
   "cell_type": "code",
   "execution_count": null,
   "id": "f5eae6e8",
   "metadata": {},
   "outputs": [],
   "source": [
    "a = np.array([[1,2,3],[4,5,6],[7,8,9]])\n",
    "b = np.array([[1,2,3],[4,5,6],[7,8,9]])\n",
    "add = a + b\n",
    "add"
   ]
  },
  {
   "cell_type": "code",
   "execution_count": null,
   "id": "c4c3c613",
   "metadata": {},
   "outputs": [],
   "source": [
    "mul = a*b\n",
    "mul"
   ]
  },
  {
   "cell_type": "code",
   "execution_count": null,
   "id": "c8426c4f",
   "metadata": {},
   "outputs": [],
   "source": [
    "mul = np.dot(a,b)\n",
    "mul"
   ]
  },
  {
   "cell_type": "code",
   "execution_count": null,
   "id": "d422471e",
   "metadata": {},
   "outputs": [],
   "source": [
    "a"
   ]
  },
  {
   "cell_type": "code",
   "execution_count": null,
   "id": "70dfd4f5",
   "metadata": {},
   "outputs": [],
   "source": [
    "b"
   ]
  },
  {
   "cell_type": "code",
   "execution_count": null,
   "id": "eba76005",
   "metadata": {},
   "outputs": [],
   "source": [
    "a = np.array([[1,2,3],[4,5,6],[7,8,9]])\n",
    "a[0:3,0]"
   ]
  },
  {
   "cell_type": "code",
   "execution_count": null,
   "id": "c09487be",
   "metadata": {},
   "outputs": [],
   "source": [
    "a.ndim"
   ]
  },
  {
   "cell_type": "code",
   "execution_count": null,
   "id": "73cae336",
   "metadata": {},
   "outputs": [],
   "source": [
    "a.shape"
   ]
  },
  {
   "cell_type": "code",
   "execution_count": null,
   "id": "fcbfe3c5",
   "metadata": {},
   "outputs": [],
   "source": [
    "a.size"
   ]
  },
  {
   "cell_type": "code",
   "execution_count": null,
   "id": "23fadd0c",
   "metadata": {},
   "outputs": [],
   "source": [
    "a[1][2]"
   ]
  },
  {
   "cell_type": "code",
   "execution_count": null,
   "id": "3c57923b",
   "metadata": {},
   "outputs": [],
   "source": [
    "X=np.array([[1,0],[0,1]])\n",
    "Y=np.array([[0,1],[1,0]])\n",
    "Z=X+Y\n",
    "Z"
   ]
  },
  {
   "cell_type": "code",
   "execution_count": null,
   "id": "6e49929a",
   "metadata": {},
   "outputs": [],
   "source": [
    "X=np.array([[1,0,1],[2,2,2]]) \n",
    "out=X[0,1:3]\n",
    "out"
   ]
  },
  {
   "cell_type": "code",
   "execution_count": null,
   "id": "b8f61f5a",
   "metadata": {},
   "outputs": [],
   "source": [
    "X=np.array([[1,0],[0,1]])\n",
    "Y=np.array([[2,1],[1,2]]) \n",
    "Z=np.dot(X,Y)\n",
    "Z"
   ]
  },
  {
   "cell_type": "markdown",
   "id": "1bb34c19",
   "metadata": {},
   "source": [
    "**APIS**"
   ]
  },
  {
   "cell_type": "code",
   "execution_count": null,
   "id": "0d131422",
   "metadata": {},
   "outputs": [],
   "source": [
    "pip install pycoingecko"
   ]
  },
  {
   "cell_type": "code",
   "execution_count": null,
   "id": "7f3b87da",
   "metadata": {},
   "outputs": [],
   "source": [
    "from pycoingecko import CoinGeckoAPI"
   ]
  },
  {
   "cell_type": "code",
   "execution_count": null,
   "id": "f033b466",
   "metadata": {},
   "outputs": [],
   "source": [
    "cg = CoinGeckoAPI()"
   ]
  },
  {
   "cell_type": "code",
   "execution_count": null,
   "id": "ec0b44cf",
   "metadata": {},
   "outputs": [],
   "source": [
    "bitcoin_data = cg.get_coin_market_chart_by_id(id = \"bitcoin\", vs_currency = \"usd\",days = 30) \n",
    "bitcoin_data"
   ]
  },
  {
   "cell_type": "code",
   "execution_count": null,
   "id": "041ba134",
   "metadata": {},
   "outputs": [],
   "source": [
    "import pandas as pd"
   ]
  },
  {
   "cell_type": "code",
   "execution_count": null,
   "id": "b6f35af4",
   "metadata": {},
   "outputs": [],
   "source": [
    "data = pd.DataFrame(bitcoin_price_data, columns= [\"Time stamp\", \"Price\"])\n",
    "data"
   ]
  },
  {
   "cell_type": "markdown",
   "id": "03d68489",
   "metadata": {},
   "source": [
    "**API using python requests libraries get and post**"
   ]
  },
  {
   "cell_type": "code",
   "execution_count": null,
   "id": "027ff146",
   "metadata": {},
   "outputs": [],
   "source": [
    "pip install requests"
   ]
  },
  {
   "cell_type": "code",
   "execution_count": null,
   "id": "61b6fe19",
   "metadata": {},
   "outputs": [],
   "source": [
    "import requests\n"
   ]
  },
  {
   "cell_type": "markdown",
   "id": "5b0edad4",
   "metadata": {},
   "source": [
    "**to make request**"
   ]
  },
  {
   "cell_type": "code",
   "execution_count": null,
   "id": "2bd88be7",
   "metadata": {},
   "outputs": [],
   "source": [
    "url='https://www.ibm.com/'\n",
    "r = requests.get(url)"
   ]
  },
  {
   "cell_type": "markdown",
   "id": "b5643ec0",
   "metadata": {},
   "source": [
    "**to find status**"
   ]
  },
  {
   "cell_type": "code",
   "execution_count": null,
   "id": "7961ab66",
   "metadata": {},
   "outputs": [],
   "source": [
    "r.status_code"
   ]
  },
  {
   "cell_type": "markdown",
   "id": "3bf9860e",
   "metadata": {},
   "source": [
    "**to review request header(used for info about client platform**"
   ]
  },
  {
   "cell_type": "code",
   "execution_count": null,
   "id": "cafdad20",
   "metadata": {},
   "outputs": [],
   "source": [
    "r.request.headers"
   ]
  },
  {
   "cell_type": "markdown",
   "id": "e767aee1",
   "metadata": {},
   "source": [
    "**to review body (data bytes transmitted)**"
   ]
  },
  {
   "cell_type": "code",
   "execution_count": null,
   "id": "8465ed3f",
   "metadata": {},
   "outputs": [],
   "source": [
    "r.request.body"
   ]
  },
  {
   "cell_type": "markdown",
   "id": "2bcf8572",
   "metadata": {},
   "source": [
    "**to view http response headers(for detail like server location**"
   ]
  },
  {
   "cell_type": "code",
   "execution_count": null,
   "id": "b7459a49",
   "metadata": {},
   "outputs": [],
   "source": [
    "r.headers"
   ]
  },
  {
   "cell_type": "markdown",
   "id": "572b3886",
   "metadata": {},
   "source": [
    "**to view date**"
   ]
  },
  {
   "cell_type": "code",
   "execution_count": null,
   "id": "a89eae87",
   "metadata": {},
   "outputs": [],
   "source": [
    "r.headers[\"date\"]"
   ]
  },
  {
   "cell_type": "markdown",
   "id": "d49bddf2",
   "metadata": {},
   "source": [
    "**to view content type**"
   ]
  },
  {
   "cell_type": "code",
   "execution_count": null,
   "id": "96b12e74",
   "metadata": {},
   "outputs": [],
   "source": [
    "r.headers[\"Content-Type\"]"
   ]
  },
  {
   "cell_type": "markdown",
   "id": "39ec36ec",
   "metadata": {},
   "source": [
    "**to view encoding**"
   ]
  },
  {
   "cell_type": "code",
   "execution_count": null,
   "id": "01547751",
   "metadata": {},
   "outputs": [],
   "source": [
    "r.encoding"
   ]
  },
  {
   "cell_type": "markdown",
   "id": "a1727ee7",
   "metadata": {},
   "source": [
    "**to view html text**"
   ]
  },
  {
   "cell_type": "code",
   "execution_count": null,
   "id": "e2f8d506",
   "metadata": {},
   "outputs": [],
   "source": [
    "r.text[0:100]"
   ]
  },
  {
   "cell_type": "markdown",
   "id": "b0851018",
   "metadata": {},
   "source": [
    "**to see python dict**"
   ]
  },
  {
   "cell_type": "code",
   "execution_count": null,
   "id": "213e9879",
   "metadata": {},
   "outputs": [],
   "source": [
    "r.json()"
   ]
  },
  {
   "cell_type": "code",
   "execution_count": null,
   "id": "99960a46",
   "metadata": {},
   "outputs": [],
   "source": [
    "r"
   ]
  },
  {
   "cell_type": "markdown",
   "id": "f0c18d9c",
   "metadata": {},
   "source": [
    "**making an get request to modify the results**"
   ]
  },
  {
   "cell_type": "code",
   "execution_count": null,
   "id": "cb9a0988",
   "metadata": {},
   "outputs": [],
   "source": [
    "url_get='http://httpbin.org/get'"
   ]
  },
  {
   "cell_type": "code",
   "execution_count": null,
   "id": "b09c67e8",
   "metadata": {},
   "outputs": [],
   "source": [
    "payload={\"name\":\"ahsan\",\"Id\":\"789\"}\n"
   ]
  },
  {
   "cell_type": "markdown",
   "id": "001ce5a4",
   "metadata": {},
   "source": [
    "**to pass info**"
   ]
  },
  {
   "cell_type": "code",
   "execution_count": null,
   "id": "e5b35a7d",
   "metadata": {},
   "outputs": [],
   "source": [
    "r = requests.get(url_get, params = payload)"
   ]
  },
  {
   "cell_type": "markdown",
   "id": "03d9cc62",
   "metadata": {},
   "source": [
    "**to print url**"
   ]
  },
  {
   "cell_type": "code",
   "execution_count": null,
   "id": "322d3899",
   "metadata": {},
   "outputs": [],
   "source": [
    "r.url"
   ]
  },
  {
   "cell_type": "markdown",
   "id": "a4641a13",
   "metadata": {},
   "source": [
    "**to see request body**"
   ]
  },
  {
   "cell_type": "code",
   "execution_count": null,
   "id": "aff8fd1c",
   "metadata": {},
   "outputs": [],
   "source": [
    "r.request.body"
   ]
  },
  {
   "cell_type": "markdown",
   "id": "5a7f730d",
   "metadata": {},
   "source": [
    "**to see status code**"
   ]
  },
  {
   "cell_type": "code",
   "execution_count": null,
   "id": "d4760be8",
   "metadata": {},
   "outputs": [],
   "source": [
    "r.status_code"
   ]
  },
  {
   "cell_type": "markdown",
   "id": "335e7440",
   "metadata": {},
   "source": [
    "**to see text**"
   ]
  },
  {
   "cell_type": "code",
   "execution_count": null,
   "id": "eca76d33",
   "metadata": {},
   "outputs": [],
   "source": [
    "r.text"
   ]
  },
  {
   "cell_type": "markdown",
   "id": "178466a9",
   "metadata": {},
   "source": [
    "**to see content type**"
   ]
  },
  {
   "cell_type": "code",
   "execution_count": null,
   "id": "5e4638b5",
   "metadata": {},
   "outputs": [],
   "source": [
    "r.headers"
   ]
  },
  {
   "cell_type": "code",
   "execution_count": null,
   "id": "a64c5800",
   "metadata": {},
   "outputs": [],
   "source": [
    "r.headers[\"date\"]"
   ]
  },
  {
   "cell_type": "code",
   "execution_count": null,
   "id": "379efa64",
   "metadata": {},
   "outputs": [],
   "source": [
    "r.json()"
   ]
  },
  {
   "cell_type": "code",
   "execution_count": null,
   "id": "b011d09a",
   "metadata": {},
   "outputs": [],
   "source": [
    "r.json()[\"args\"]"
   ]
  },
  {
   "cell_type": "code",
   "execution_count": null,
   "id": "c500bb04",
   "metadata": {},
   "outputs": [],
   "source": [
    "r.json()[\"form\"]"
   ]
  },
  {
   "cell_type": "markdown",
   "id": "7e4e9e4d",
   "metadata": {},
   "source": [
    "**to post request**"
   ]
  },
  {
   "cell_type": "code",
   "execution_count": null,
   "id": "ddbf7d35",
   "metadata": {},
   "outputs": [],
   "source": [
    "url_post='http://httpbin.org/post'"
   ]
  },
  {
   "cell_type": "code",
   "execution_count": null,
   "id": "cfe5b0c0",
   "metadata": {},
   "outputs": [],
   "source": [
    "r_post=requests.post(url_post,data=payload)"
   ]
  },
  {
   "cell_type": "code",
   "execution_count": null,
   "id": "96d23f36",
   "metadata": {},
   "outputs": [],
   "source": [
    "print(r_post.url)"
   ]
  },
  {
   "cell_type": "code",
   "execution_count": null,
   "id": "c3473c18",
   "metadata": {},
   "outputs": [],
   "source": [
    "print(r.url)"
   ]
  },
  {
   "cell_type": "markdown",
   "id": "be8abfc9",
   "metadata": {},
   "source": [
    "**simple APIS with random**"
   ]
  },
  {
   "cell_type": "code",
   "execution_count": null,
   "id": "b606645d",
   "metadata": {},
   "outputs": [],
   "source": [
    "!pip install randomuser"
   ]
  },
  {
   "cell_type": "code",
   "execution_count": null,
   "id": "d3534156",
   "metadata": {},
   "outputs": [],
   "source": [
    "from randomuser import RandomUser\n",
    "import pandas as pd"
   ]
  },
  {
   "cell_type": "code",
   "execution_count": null,
   "id": "9e7f09b5",
   "metadata": {},
   "outputs": [],
   "source": [
    "r = RandomUser()"
   ]
  },
  {
   "cell_type": "code",
   "execution_count": null,
   "id": "c452c289",
   "metadata": {},
   "outputs": [],
   "source": [
    "some_list = r.generate_users(10)"
   ]
  },
  {
   "cell_type": "code",
   "execution_count": null,
   "id": "c699bdde",
   "metadata": {},
   "outputs": [],
   "source": [
    "some_list"
   ]
  },
  {
   "cell_type": "code",
   "execution_count": null,
   "id": "6bf94b87",
   "metadata": {},
   "outputs": [],
   "source": [
    "name = r.get_full_name()"
   ]
  },
  {
   "cell_type": "code",
   "execution_count": null,
   "id": "410430a2",
   "metadata": {},
   "outputs": [],
   "source": [
    "def get_users():\n",
    "    users =[]\n",
    "     \n",
    "    for user in RandomUser.generate_users(10):\n",
    "        users.append({\"Name\":user.get_full_name(),\"Gender\":user.get_gender(),\"City\":user.get_city(),\"State\":user.get_state(),\"Email\":user.get_email(), \"DOB\":user.get_dob(),\"Picture\":user.get_picture()})\n",
    "    print(users)\n",
    "    return pd.DataFrame(users)     \n"
   ]
  },
  {
   "cell_type": "code",
   "execution_count": null,
   "id": "d6c25943",
   "metadata": {},
   "outputs": [],
   "source": [
    "get_users()"
   ]
  },
  {
   "cell_type": "markdown",
   "id": "e43b55c3",
   "metadata": {},
   "source": [
    "**web scraping**"
   ]
  },
  {
   "cell_type": "code",
   "execution_count": null,
   "id": "d787b0eb",
   "metadata": {},
   "outputs": [],
   "source": [
    "from bs4 import BeautifulSoup\n",
    "import requests"
   ]
  },
  {
   "cell_type": "code",
   "execution_count": null,
   "id": "52c80907",
   "metadata": {},
   "outputs": [],
   "source": [
    "%%html\n",
    "<!DOCTYPE html>\n",
    "<html>\n",
    "<head>\n",
    "<title>Page Title</title>\n",
    "</head>\n",
    "<body>\n",
    "<h3><b id='boldest'>Lebron James</b></h3>\n",
    "<p> Salary: $ 92,000,000 </p>\n",
    "<h3> Stephen Curry</h3>\n",
    "<p> Salary: $85,000, 000 </p>\n",
    "<h3> Kevin Durant </h3>\n",
    "<p> Salary: $73,200, 000</p>\n",
    "</body>\n",
    "</html>"
   ]
  },
  {
   "cell_type": "code",
   "execution_count": null,
   "id": "a740461b",
   "metadata": {},
   "outputs": [],
   "source": [
    "html=\"<!DOCTYPE html><html><head><title>Page Title</title></head><body><h3><b id='boldest'>Lebron James</b></h3><p> Salary: $ 92,000,000 </p><h3> Stephen Curry</h3><p> Salary: $85,000, 000 </p><h3> Kevin Durant </h3><p> Salary: $73,200, 000</p></body></html>\""
   ]
  },
  {
   "cell_type": "code",
   "execution_count": null,
   "id": "4d3fec1d",
   "metadata": {},
   "outputs": [],
   "source": [
    "soup=BeautifulSoup(html,\"html.parser\")"
   ]
  },
  {
   "cell_type": "code",
   "execution_count": null,
   "id": "e301b14c",
   "metadata": {},
   "outputs": [],
   "source": [
    "soup.h3"
   ]
  },
  {
   "cell_type": "code",
   "execution_count": null,
   "id": "4b7c8bf7",
   "metadata": {},
   "outputs": [],
   "source": [
    "soup.h3.b"
   ]
  },
  {
   "cell_type": "code",
   "execution_count": null,
   "id": "b716706f",
   "metadata": {},
   "outputs": [],
   "source": [
    "soup.h3.string"
   ]
  },
  {
   "cell_type": "code",
   "execution_count": null,
   "id": "12b9a30e",
   "metadata": {},
   "outputs": [],
   "source": [
    "soup.h3.next_sibling.string"
   ]
  },
  {
   "cell_type": "code",
   "execution_count": null,
   "id": "76fa7f73",
   "metadata": {},
   "outputs": [],
   "source": [
    "soup.h3.next_sibling.next_sibling.string"
   ]
  },
  {
   "cell_type": "code",
   "execution_count": null,
   "id": "0b65a4b3",
   "metadata": {},
   "outputs": [],
   "source": [
    "soup.h3.next_sibling"
   ]
  },
  {
   "cell_type": "code",
   "execution_count": null,
   "id": "0a6c8d20",
   "metadata": {},
   "outputs": [],
   "source": [
    "%%html\n",
    "<table>\n",
    "  <tr>\n",
    "    <td id='flight' >Flight No</td>\n",
    "    <td>Launch site</td> \n",
    "    <td>Payload mass</td>\n",
    "   </tr>\n",
    "  <tr> \n",
    "    <td>1</td>\n",
    "    <td><a href='https://en.wikipedia.org/wiki/Florida'>Florida</a></td>\n",
    "    <td>300 kg</td>\n",
    "  </tr>\n",
    "  <tr>\n",
    "    <td>2</td>\n",
    "    <td><a href='https://en.wikipedia.org/wiki/Texas'>Texas</a></td>\n",
    "    <td>94 kg</td>\n",
    "  </tr>\n",
    "  <tr>\n",
    "    <td>3</td>\n",
    "    <td><a href='https://en.wikipedia.org/wiki/Florida'>Florida<a> </td>\n",
    "    <td>80 kg</td>\n",
    "  </tr>\n",
    "</table>"
   ]
  },
  {
   "cell_type": "code",
   "execution_count": null,
   "id": "00914d1d",
   "metadata": {},
   "outputs": [],
   "source": [
    "table_bs = BeautifulSoup(table, \"html.parser\")"
   ]
  },
  {
   "cell_type": "code",
   "execution_count": null,
   "id": "73e239e1",
   "metadata": {},
   "outputs": [],
   "source": [
    "table_rows=table_bs.find_all('tr')\n",
    "table_rows"
   ]
  },
  {
   "cell_type": "code",
   "execution_count": null,
   "id": "5c8c24ac",
   "metadata": {},
   "outputs": [],
   "source": [
    "table_rows=table_bs.find_all('td')\n",
    "table_rows"
   ]
  },
  {
   "cell_type": "code",
   "execution_count": null,
   "id": "7690f1f8",
   "metadata": {},
   "outputs": [],
   "source": [
    "firstrow = table_rows[0]\n",
    "firstrow"
   ]
  },
  {
   "cell_type": "code",
   "execution_count": null,
   "id": "ad78db8a",
   "metadata": {},
   "outputs": [],
   "source": [
    "firstrow.td"
   ]
  },
  {
   "cell_type": "code",
   "execution_count": null,
   "id": "909aecb3",
   "metadata": {},
   "outputs": [],
   "source": [
    "for i,row in enumerate(table_rows):\n",
    "    print(i,\" \",\" \" ,\"row\",\" \", row)"
   ]
  },
  {
   "cell_type": "code",
   "execution_count": null,
   "id": "6a6e63c7",
   "metadata": {},
   "outputs": [],
   "source": [
    "for i,row in enumerate(table_rows):\n",
    "    print(\"row\",i)\n",
    "    cells=row.find_all('td')\n",
    "    for j,cell in enumerate(cells):\n",
    "        print('colunm',j,\"cell\",cell)"
   ]
  },
  {
   "cell_type": "code",
   "execution_count": null,
   "id": "ac1e3315",
   "metadata": {},
   "outputs": [],
   "source": []
  }
 ],
 "metadata": {
  "kernelspec": {
   "display_name": "Python 3 (ipykernel)",
   "language": "python",
   "name": "python3"
  },
  "language_info": {
   "codemirror_mode": {
    "name": "ipython",
    "version": 3
   },
   "file_extension": ".py",
   "mimetype": "text/x-python",
   "name": "python",
   "nbconvert_exporter": "python",
   "pygments_lexer": "ipython3",
   "version": "3.9.12"
  }
 },
 "nbformat": 4,
 "nbformat_minor": 5
}
