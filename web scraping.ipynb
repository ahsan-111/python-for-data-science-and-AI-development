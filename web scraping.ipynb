{
 "cells": [
  {
   "cell_type": "code",
   "execution_count": null,
   "id": "157ce774",
   "metadata": {},
   "outputs": [],
   "source": [
    "from bs4 import BeautifulSoup\n",
    "import requests"
   ]
  },
  {
   "cell_type": "code",
   "execution_count": null,
   "id": "0eb32069",
   "metadata": {},
   "outputs": [],
   "source": [
    "%%html\n",
    "<!DOCTYPE html>\n",
    "<html>\n",
    "<head>\n",
    "<title>Page Title</title>\n",
    "</head>\n",
    "<body>\n",
    "<h3><b id='boldest'>Lebron James</b></h3>\n",
    "<p> Salary: $ 92,000,000 </p>\n",
    "<h3> Stephen Curry</h3>\n",
    "<p> Salary: $85,000, 000 </p>\n",
    "<h3> Kevin Durant </h3>\n",
    "<p> Salary: $73,200, 000</p>\n",
    "</body>\n",
    "</html>"
   ]
  },
  {
   "cell_type": "code",
   "execution_count": null,
   "id": "f8678b21",
   "metadata": {},
   "outputs": [],
   "source": [
    "html=\"<!DOCTYPE html><html><head><title>Page Title</title></head><body><h3><b id='boldest'>Lebron James</b></h3><p> Salary: $ 92,000,000 </p><h3> Stephen Curry</h3><p> Salary: $85,000, 000 </p><h3> Kevin Durant </h3><p> Salary: $73,200, 000</p></body></html>\""
   ]
  },
  {
   "cell_type": "code",
   "execution_count": null,
   "id": "20ef6aff",
   "metadata": {},
   "outputs": [],
   "source": [
    "soup = BeautifulSoup(html,\"html.parser\")"
   ]
  },
  {
   "cell_type": "code",
   "execution_count": null,
   "id": "b73ad193",
   "metadata": {},
   "outputs": [],
   "source": [
    "soup"
   ]
  },
  {
   "cell_type": "code",
   "execution_count": null,
   "id": "c19b1923",
   "metadata": {},
   "outputs": [],
   "source": [
    "soup.h3"
   ]
  },
  {
   "cell_type": "code",
   "execution_count": null,
   "id": "d23017dd",
   "metadata": {},
   "outputs": [],
   "source": []
  },
  {
   "cell_type": "code",
   "execution_count": null,
   "id": "82b17c76",
   "metadata": {},
   "outputs": [],
   "source": [
    "soup.h3.string"
   ]
  },
  {
   "cell_type": "code",
   "execution_count": null,
   "id": "e1e41d04",
   "metadata": {},
   "outputs": [],
   "source": [
    "soup.h3.next_sibling.string"
   ]
  },
  {
   "cell_type": "code",
   "execution_count": null,
   "id": "d0bf0f15",
   "metadata": {},
   "outputs": [],
   "source": [
    "soup.h3.next_sibling.next_sibling.string"
   ]
  },
  {
   "cell_type": "code",
   "execution_count": null,
   "id": "e43832a1",
   "metadata": {},
   "outputs": [],
   "source": [
    "soup.prettify()"
   ]
  },
  {
   "cell_type": "code",
   "execution_count": null,
   "id": "7f4e4da1",
   "metadata": {},
   "outputs": [],
   "source": [
    "soup.title"
   ]
  },
  {
   "cell_type": "code",
   "execution_count": null,
   "id": "9ca47577",
   "metadata": {},
   "outputs": [],
   "source": [
    "soup.head"
   ]
  },
  {
   "cell_type": "code",
   "execution_count": null,
   "id": "2d2cf064",
   "metadata": {},
   "outputs": [],
   "source": []
  },
  {
   "cell_type": "code",
   "execution_count": null,
   "id": "efdf01c3",
   "metadata": {},
   "outputs": [],
   "source": [
    "soup.h3.next_sibling.next_sibling.attrs"
   ]
  },
  {
   "cell_type": "markdown",
   "id": "63bddc3e",
   "metadata": {},
   "source": [
    "**find all**"
   ]
  },
  {
   "cell_type": "code",
   "execution_count": null,
   "id": "6c077a6d",
   "metadata": {},
   "outputs": [],
   "source": [
    "table=\"<table><tr><td id='flight'>Flight No</td><td>Launch site</td> <td>Payload mass</td></tr><tr> <td>1</td><td><a href='https://en.wikipedia.org/wiki/Florida'>Florida<a></td><td>300 kg</td></tr><tr><td>2</td><td><a href='https://en.wikipedia.org/wiki/Texas'>Texas</a></td><td>94 kg</td></tr><tr><td>3</td><td><a href='https://en.wikipedia.org/wiki/Florida'>Florida<a> </td><td>80 kg</td></tr></table>\""
   ]
  },
  {
   "cell_type": "code",
   "execution_count": null,
   "id": "00ca8f65",
   "metadata": {},
   "outputs": [],
   "source": [
    "soup1 = BeautifulSoup(table,\"html.parser\")"
   ]
  },
  {
   "cell_type": "code",
   "execution_count": null,
   "id": "a5ce0e92",
   "metadata": {},
   "outputs": [],
   "source": []
  },
  {
   "cell_type": "code",
   "execution_count": null,
   "id": "beff6cc7",
   "metadata": {},
   "outputs": [],
   "source": [
    "table = soup1.find_all(\"tr\")"
   ]
  },
  {
   "cell_type": "code",
   "execution_count": null,
   "id": "54d0a00c",
   "metadata": {},
   "outputs": [],
   "source": [
    "table"
   ]
  },
  {
   "cell_type": "code",
   "execution_count": null,
   "id": "725da495",
   "metadata": {},
   "outputs": [],
   "source": [
    "for i,row in enumerate(table):\n",
    "    print(i,row)"
   ]
  },
  {
   "cell_type": "code",
   "execution_count": null,
   "id": "64ad295a",
   "metadata": {},
   "outputs": [],
   "source": [
    "for i,row in enumerate(table):\n",
    "    print(\"row\",i)\n",
    "    cells = row.find_all(\"td\")\n",
    "    for j,cell in enumerate(cells):\n",
    "        print(\"columns\",j,\" \",cell)"
   ]
  },
  {
   "cell_type": "code",
   "execution_count": null,
   "id": "47ca67b2",
   "metadata": {},
   "outputs": [],
   "source": [
    "items = soup1.find_all(name = [\"tr\",\"td\"])\n",
    "items"
   ]
  },
  {
   "cell_type": "code",
   "execution_count": null,
   "id": "1f5bd26d",
   "metadata": {},
   "outputs": [],
   "source": [
    "t = soup1.find_all(\"table\")\n",
    "t"
   ]
  },
  {
   "cell_type": "code",
   "execution_count": null,
   "id": "16a967d4",
   "metadata": {},
   "outputs": [],
   "source": [
    "len(t)"
   ]
  },
  {
   "cell_type": "code",
   "execution_count": null,
   "id": "937fef18",
   "metadata": {},
   "outputs": [],
   "source": [
    "links = soup1.find_all(href=\"https://en.wikipedia.org/wiki/Florida\")\n",
    "links"
   ]
  },
  {
   "cell_type": "markdown",
   "id": "ff2afea0",
   "metadata": {},
   "source": [
    "**to find all the links**"
   ]
  },
  {
   "cell_type": "code",
   "execution_count": null,
   "id": "24665d4b",
   "metadata": {},
   "outputs": [],
   "source": [
    "links = soup1.find_all(href=True)\n",
    "links"
   ]
  },
  {
   "cell_type": "code",
   "execution_count": null,
   "id": "115d6126",
   "metadata": {},
   "outputs": [],
   "source": [
    "soup1.find_all(id = \"Boldest\")"
   ]
  },
  {
   "cell_type": "code",
   "execution_count": null,
   "id": "b400c0b7",
   "metadata": {},
   "outputs": [],
   "source": [
    "soup1.find_all(string = \"Florida\")"
   ]
  },
  {
   "cell_type": "markdown",
   "id": "2a153919",
   "metadata": {},
   "source": [
    "**web scrapping from html and requests and covert into dataframe through pandas **"
   ]
  },
  {
   "cell_type": "code",
   "execution_count": null,
   "id": "669f20c1",
   "metadata": {},
   "outputs": [],
   "source": [
    "import pandas as pd"
   ]
  },
  {
   "cell_type": "code",
   "execution_count": null,
   "id": "038bad2a",
   "metadata": {},
   "outputs": [],
   "source": [
    "url = \"https://en.wikipedia.org/wiki/World_population\""
   ]
  },
  {
   "cell_type": "code",
   "execution_count": null,
   "id": "588aa283",
   "metadata": {},
   "outputs": [],
   "source": [
    "data = requests.get(url).text\n",
    "data"
   ]
  },
  {
   "cell_type": "code",
   "execution_count": null,
   "id": "535c423c",
   "metadata": {},
   "outputs": [],
   "source": [
    "soup = BeautifulSoup(data,\"html.parser\")"
   ]
  },
  {
   "cell_type": "code",
   "execution_count": null,
   "id": "f44769c7",
   "metadata": {},
   "outputs": [],
   "source": [
    "tables = soup.find_all(\"table\")"
   ]
  },
  {
   "cell_type": "code",
   "execution_count": null,
   "id": "5acd2233",
   "metadata": {},
   "outputs": [],
   "source": [
    "soup.find_all([\"tr\",\"td\",\"th\",\"table\"])\n",
    "print(tables[5].prettify())"
   ]
  },
  {
   "cell_type": "code",
   "execution_count": null,
   "id": "9bd2346d",
   "metadata": {},
   "outputs": [],
   "source": [
    "data=[]\n",
    "for row in tables[5].tbody.find_all(\"tr\"):\n",
    "    col = row.find_all(\"td\")\n",
    "    rank = col[0].text\n",
    "    country = col[1].text\n",
    "    population = col[2].text.strip\n",
    "    area = col[3].text.strip\n",
    "    density = col[4].text.strip\n",
    "    data.append({\"Rank\":rank,\"Country\":country,\"Population\":population,\"Area\":area})\n",
    "print(data)\n",
    "    \n",
    "    "
   ]
  },
  {
   "cell_type": "code",
   "execution_count": null,
   "id": "6cc548a9",
   "metadata": {},
   "outputs": [],
   "source": []
  },
  {
   "cell_type": "code",
   "execution_count": null,
   "id": "b952fe47",
   "metadata": {},
   "outputs": [],
   "source": [
    "table_index = 5\n",
    "population_data = pd.DataFrame(columns=[\"Rank\", \"Country\", \"Population\", \"Area\", \"Density\"])\n",
    "\n",
    "for row in tables[table_index].tbody.find_all(\"tr\"):\n",
    "    col = row.find_all(\"td\")\n",
    "    if (col != []):\n",
    "        rank = col[0].text\n",
    "        country = col[1].text\n",
    "        population = col[2].text.strip()\n",
    "        area = col[3].text.strip()\n",
    "        density = col[4].text.strip()\n",
    "        population_data = population_data.append({\"Rank\":rank, \"Country\":country, \"Population\":population, \"Area\":area, \"Density\":density}, ignore_index=True)\n",
    "        print(col)\n",
    "\n",
    "population_data"
   ]
  },
  {
   "cell_type": "code",
   "execution_count": null,
   "id": "db6d1f02",
   "metadata": {},
   "outputs": [],
   "source": []
  }
 ],
 "metadata": {
  "kernelspec": {
   "display_name": "Python 3 (ipykernel)",
   "language": "python",
   "name": "python3"
  },
  "language_info": {
   "codemirror_mode": {
    "name": "ipython",
    "version": 3
   },
   "file_extension": ".py",
   "mimetype": "text/x-python",
   "name": "python",
   "nbconvert_exporter": "python",
   "pygments_lexer": "ipython3",
   "version": "3.9.12"
  }
 },
 "nbformat": 4,
 "nbformat_minor": 5
}
