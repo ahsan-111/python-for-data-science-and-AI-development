{
 "cells": [
  {
   "cell_type": "code",
   "execution_count": null,
   "id": "a63e316b",
   "metadata": {},
   "outputs": [],
   "source": [
    "import requests"
   ]
  },
  {
   "cell_type": "code",
   "execution_count": null,
   "id": "557816e7",
   "metadata": {},
   "outputs": [],
   "source": [
    "url = \"https://www.google.com/\"\n",
    "r = requests.get(url)"
   ]
  },
  {
   "cell_type": "code",
   "execution_count": null,
   "id": "52cb0b74",
   "metadata": {},
   "outputs": [],
   "source": [
    "r.text"
   ]
  },
  {
   "cell_type": "code",
   "execution_count": null,
   "id": "ada89664",
   "metadata": {},
   "outputs": [],
   "source": [
    "r.request.headers"
   ]
  },
  {
   "cell_type": "code",
   "execution_count": null,
   "id": "9f90728e",
   "metadata": {},
   "outputs": [],
   "source": [
    "r.headers"
   ]
  },
  {
   "cell_type": "code",
   "execution_count": null,
   "id": "8865c1b1",
   "metadata": {},
   "outputs": [],
   "source": [
    "r.headers[\"date\"]"
   ]
  },
  {
   "cell_type": "code",
   "execution_count": null,
   "id": "48b262f0",
   "metadata": {},
   "outputs": [],
   "source": [
    "r.headers[\"Content-Type\"]"
   ]
  },
  {
   "cell_type": "code",
   "execution_count": null,
   "id": "271664ef",
   "metadata": {},
   "outputs": [],
   "source": [
    "url='https://cf-courses-data.s3.us.cloud-object-storage.appdomain.cloud/IBMDeveloperSkillsNetwork-PY0101EN-SkillsNetwork/IDSNlogo.png'"
   ]
  },
  {
   "cell_type": "code",
   "execution_count": null,
   "id": "ce7003d9",
   "metadata": {},
   "outputs": [],
   "source": [
    "r = requests.get(url)"
   ]
  },
  {
   "cell_type": "code",
   "execution_count": null,
   "id": "75b8105d",
   "metadata": {},
   "outputs": [],
   "source": [
    "r.headers"
   ]
  },
  {
   "cell_type": "code",
   "execution_count": null,
   "id": "60b5e917",
   "metadata": {},
   "outputs": [],
   "source": [
    "r.url"
   ]
  },
  {
   "cell_type": "code",
   "execution_count": null,
   "id": "85cde66f",
   "metadata": {},
   "outputs": [],
   "source": [
    "r.headers[\"date\"]"
   ]
  },
  {
   "cell_type": "code",
   "execution_count": null,
   "id": "d421c1b6",
   "metadata": {},
   "outputs": [],
   "source": [
    "import os \n",
    "from PIL import Image\n",
    "from IPython.display import IFrame"
   ]
  },
  {
   "cell_type": "code",
   "execution_count": null,
   "id": "3cd1b99e",
   "metadata": {},
   "outputs": [],
   "source": [
    "path=os.path.join(os.getcwd(),'image.png')\n",
    "path"
   ]
  },
  {
   "cell_type": "code",
   "execution_count": null,
   "id": "eb0e5227",
   "metadata": {},
   "outputs": [],
   "source": [
    "with open(path,'wb') as f:\n",
    "    f.write(r.content)"
   ]
  },
  {
   "cell_type": "code",
   "execution_count": null,
   "id": "7cb60bc3",
   "metadata": {},
   "outputs": [],
   "source": [
    "Image.open(path)"
   ]
  },
  {
   "cell_type": "markdown",
   "id": "cd63ee77",
   "metadata": {},
   "source": [
    "**how to make get request and change some data**"
   ]
  },
  {
   "cell_type": "code",
   "execution_count": null,
   "id": "1ac4f368",
   "metadata": {},
   "outputs": [],
   "source": [
    "url_get = \"http://httpbin.org/get\""
   ]
  },
  {
   "cell_type": "code",
   "execution_count": null,
   "id": "9aa0bb66",
   "metadata": {},
   "outputs": [],
   "source": [
    "payload = {\"name\":\"ahsan\",\"id\":\"789\"}"
   ]
  },
  {
   "cell_type": "code",
   "execution_count": null,
   "id": "7cfa7546",
   "metadata": {},
   "outputs": [],
   "source": [
    "r = requests.get(url_get,params=payload)"
   ]
  },
  {
   "cell_type": "code",
   "execution_count": null,
   "id": "a9a6e5aa",
   "metadata": {},
   "outputs": [],
   "source": [
    "r"
   ]
  },
  {
   "cell_type": "code",
   "execution_count": null,
   "id": "69d9b210",
   "metadata": {},
   "outputs": [],
   "source": [
    "r.text"
   ]
  },
  {
   "cell_type": "code",
   "execution_count": null,
   "id": "23d7b4da",
   "metadata": {},
   "outputs": [],
   "source": [
    "r.url"
   ]
  },
  {
   "cell_type": "code",
   "execution_count": null,
   "id": "9bd9876a",
   "metadata": {},
   "outputs": [],
   "source": [
    "r.json()"
   ]
  },
  {
   "cell_type": "code",
   "execution_count": null,
   "id": "14081984",
   "metadata": {},
   "outputs": [],
   "source": [
    "f = r.json()[\"args\"]"
   ]
  },
  {
   "cell_type": "code",
   "execution_count": null,
   "id": "511f06a5",
   "metadata": {},
   "outputs": [],
   "source": [
    "import pandas as pd"
   ]
  },
  {
   "cell_type": "code",
   "execution_count": null,
   "id": "c6fff2bb",
   "metadata": {},
   "outputs": [],
   "source": [
    "f = r.json()[\"args\"]\n",
    "f"
   ]
  },
  {
   "cell_type": "markdown",
   "id": "151281f9",
   "metadata": {},
   "source": [
    "**Simple APIS as Pandas**"
   ]
  },
  {
   "cell_type": "code",
   "execution_count": null,
   "id": "86e3bcff",
   "metadata": {},
   "outputs": [],
   "source": [
    "from randomuser import RandomUser\n",
    "import pandas as pd"
   ]
  },
  {
   "cell_type": "code",
   "execution_count": null,
   "id": "99835ebd",
   "metadata": {},
   "outputs": [],
   "source": [
    "r = RandomUser()"
   ]
  },
  {
   "cell_type": "code",
   "execution_count": null,
   "id": "6964dd5a",
   "metadata": {},
   "outputs": [],
   "source": [
    "data = r.generate_users(10)"
   ]
  },
  {
   "cell_type": "code",
   "execution_count": null,
   "id": "eb931117",
   "metadata": {},
   "outputs": [],
   "source": [
    "data"
   ]
  },
  {
   "cell_type": "code",
   "execution_count": null,
   "id": "b6f1f698",
   "metadata": {},
   "outputs": [],
   "source": [
    "info = []\n",
    "for i in data:\n",
    "    info.append({\"name\":r.get_full_name(),\"gender\":r.get_gender(),\"email\":r.get_email()})\n",
    "print(info)"
   ]
  },
  {
   "cell_type": "code",
   "execution_count": null,
   "id": "4f6085ad",
   "metadata": {},
   "outputs": [],
   "source": [
    "df = pd.DataFrame(info)\n",
    "df"
   ]
  },
  {
   "cell_type": "code",
   "execution_count": null,
   "id": "709452a5",
   "metadata": {},
   "outputs": [],
   "source": [
    "df.loc[8,\"email\"]"
   ]
  },
  {
   "cell_type": "code",
   "execution_count": null,
   "id": "641be511",
   "metadata": {},
   "outputs": [],
   "source": []
  },
  {
   "cell_type": "code",
   "execution_count": null,
   "id": "13d7ca82",
   "metadata": {},
   "outputs": [],
   "source": []
  }
 ],
 "metadata": {
  "kernelspec": {
   "display_name": "Python 3 (ipykernel)",
   "language": "python",
   "name": "python3"
  },
  "language_info": {
   "codemirror_mode": {
    "name": "ipython",
    "version": 3
   },
   "file_extension": ".py",
   "mimetype": "text/x-python",
   "name": "python",
   "nbconvert_exporter": "python",
   "pygments_lexer": "ipython3",
   "version": "3.9.12"
  }
 },
 "nbformat": 4,
 "nbformat_minor": 5
}
